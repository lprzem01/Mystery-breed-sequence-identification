{
 "cells": [
  {
   "cell_type": "code",
   "execution_count": 1,
   "metadata": {},
   "outputs": [],
   "source": [
    "\n",
    "from Bio import SeqIO, AlignIO, Phylo\n",
    "from Bio.SeqRecord import SeqRecord\n",
    "import Bio.Align\n",
    "from Bio.Align.AlignInfo import SummaryInfo\n",
    "from Bio.Seq import Seq\n",
    "import os\n",
    "import matplotlib.pyplot as plt\n",
    "import numpy as np \n",
    "import scipy as sp\n"
   ]
  },
  {
   "cell_type": "code",
   "execution_count": 2,
   "metadata": {},
   "outputs": [],
   "source": [
    "#set current directory to my_project\n",
    "\n",
    "#complete these variables with the input files directory\n",
    "dog_breeds = r\"/workspaces/Coursework-Identify-the-most-similar-sequence-/my_project/data/dog_breeds.fa\"\n",
    "mystery_breed = r\"/workspaces/Coursework-Identify-the-most-similar-sequence-/my_project/data/mystery.fa\"\n",
    "output = r\"/workspaces/Coursework-Identify-the-most-similar-sequence-/my_project/results\"\n",
    "ind_breeds = r\"/workspaces/Coursework-Identify-the-most-similar-sequence-/my_project/results/individual_breed_sequences\"\n"
   ]
  },
  {
   "cell_type": "code",
   "execution_count": 3,
   "metadata": {},
   "outputs": [],
   "source": [
    "class Breed():\n",
    "    \"\"\"This class stores information about every breed and their sequence\"\"\"\n",
    "    #create a list to store all instances of the class\n",
    "    all_instances = []\n",
    "    #define an init function which stores the sequence as a sequence object, the breed as a string and the fasta format of the sequence\n",
    "    def __init__(self, sequence, breed, fasta):\n",
    "        self.sequence = sequence\n",
    "        self.breed = breed\n",
    "        self.fasta = fasta\n",
    "        #store all initialised instances in the defined list\n",
    "        Breed.all_instances.append(self) \n"
   ]
  },
  {
   "cell_type": "code",
   "execution_count": 4,
   "metadata": {},
   "outputs": [],
   "source": [
    "#open the fasta file and save the sequence breed and sequence name in a Breed Class to be accessed later\n",
    "def initialise_Breed(filename = dog_breeds, format = \"fasta\"):\n",
    "    #parse through the dog_breeds file\n",
    "    for record in SeqIO.parse(filename, format):\n",
    "        #get the description of each sequence to find out what breed it is \n",
    "        #split the description on \"[\" as these are used to separate each descriptor\n",
    "        for key in list(record.description.split(\"[\")): \n",
    "            #if the keyword breed is in the description but the keyword \"isolate\" is not in thr description it will define the dog breed \n",
    "            if \"breed\" in key and \"isolate\" not in key:\n",
    "                #each sequence in filename gets assigned a name based on the breed identified in the desciption\n",
    "                breed_name = (key[6:-2]).upper()\n",
    "                #intialises an object of class Breed which contains the sequence, breed name and the full record \n",
    "                record.name = Breed(record.seq, breed_name, record)\n",
    "#call the function\n",
    "initialise_Breed()\n",
    "\n",
    "def create_output(content, filename:str, filetype:str):\n",
    "        \"\"\"creates a file in the results folder with the content provided in the the correct format \"\"\"\n",
    "        #create an empty file by openening it in a write format \n",
    "        filepath = f\"{output}/{filename}\"\n",
    "        with open(filename, \"w\") as f:\n",
    "                if filetype == \"fasta\":\n",
    "                        SeqIO.write(content, filepath, filetype) \n",
    "                elif filetype == \"txt\":\n",
    "                        f.write(content)\n"
   ]
  },
  {
   "cell_type": "code",
   "execution_count": 26,
   "metadata": {},
   "outputs": [],
   "source": [
    "def unique_breeds():\n",
    "    \"\"\"set up a list that contains all unique breed names in a list\"\"\"\n",
    "    all_breeds = set()\n",
    "    #itterate through all instances in Breed class\n",
    "    for key in Breed.all_instances:\n",
    "        #access and add every breed to the all_breeds set\n",
    "        all_breeds.add(key.breed)\n",
    "    return all_breeds\n",
    "    \n",
    "\n",
    "def breed_sequences(directory = ind_breeds):\n",
    "    \"\"\"write a fasta file containing all sequences that belong to the same breed \"\"\"\n",
    "    for breed in unique_breeds():\n",
    "        #creates a temporary variable corresponding to each individual dog breed \n",
    "        temp = breed\n",
    "        #create a directory for filename\n",
    "        filename = f\"{directory}/{breed}\"\n",
    "        #itterate throough all instances of the class Breed\n",
    "        sequences = []\n",
    "        for key in Breed.all_instances: \n",
    "            #check if the breedd is the same as the current breed in the loop stored in the temp variable \n",
    "            if key.breed == temp:\n",
    "                sequences.append(key.fasta)\n",
    "                #adds the sequences to a file with the name of the breed as a filename\n",
    "        SeqIO.write(sequences, filename, \"fasta\") \n",
    "\n",
    "breed_sequences()"
   ]
  },
  {
   "cell_type": "code",
   "execution_count": 27,
   "metadata": {},
   "outputs": [
    {
     "name": "stderr",
     "output_type": "stream",
     "text": [
      "/workspaces/Coursework-Identify-the-most-similar-sequence-/.coursework/lib/python3.10/site-packages/Bio/Align/AlignInfo.py:63: BiopythonDeprecationWarning: The `dumb_consensus` method is deprecated and will be removed in a future release of Biopython. As an alternative, you can convert the multiple sequence alignment object to a new-style Alignment object by via its `.alignment` property, and then create a Motif object. You can then use the `.consensus` or `.degenerate_consensus` property of the Motif object to get a consensus sequence. For more control over how the consensus sequence is calculated, you can call the `calculate_consensus` method on the `.counts` property of the Motif object. This is an example for a multiple sequence alignment `msa` of DNA nucleotides:\n",
      ">>> from Bio.Seq import Seq\n",
      ">>> from Bio.SeqRecord import SeqRecord\n",
      ">>> from Bio.Align import MultipleSeqAlignment\n",
      ">>> from Bio.Align.AlignInfo import SummaryInfo\n",
      ">>> msa = MultipleSeqAlignment([SeqRecord(Seq('ACGT')),\n",
      "...                             SeqRecord(Seq('ATGT')),\n",
      "...                             SeqRecord(Seq('ATGT'))])\n",
      ">>> summary = SummaryInfo(msa)\n",
      ">>> dumb_consensus = summary.dumb_consensus(ambiguous='N')\n",
      ">>> print(dumb_consensus)\n",
      "ANGT\n",
      ">>> alignment = msa.alignment\n",
      ">>> from Bio.motifs import Motif\n",
      ">>> motif = Motif('ACGT', alignment)\n",
      ">>> print(motif.consensus)\n",
      "ATGT\n",
      ">>> print(motif.degenerate_consensus)\n",
      "AYGT\n",
      ">>> counts = motif.counts\n",
      ">>> consensus = counts.calculate_consensus(identity=0.7)\n",
      ">>> print(consensus)\n",
      "ANGT\n",
      "\n",
      "If your multiple sequence alignment object was obtained using Bio.AlignIO, then you can obtain a new-style Alignment object directly by using Bio.Align.read instead of Bio.AlignIO.read, or Bio.Align.parse instead of Bio.AlignIO.parse.\n",
      "  warnings.warn(\n"
     ]
    }
   ],
   "source": [
    "\n",
    "def concensus_seq(filename):\n",
    "    \"\"\"Function that takes in a file containing a number of sequences and returns a concensus sequence\"\"\"\n",
    "    os.chdir(ind_breeds) \n",
    "    #align all the sequences in each file\n",
    "    alignments = AlignIO.parse(filename, \"fasta\") \n",
    "    #assign filename to varible recordname which will be used to create a name for this record \n",
    "    recordname = f\"{filename}\"\n",
    "    for alignment in alignments: \n",
    "        #get summary info of each alignment to create a concensus \n",
    "        summary = SummaryInfo(alignment) \n",
    "        #create a concensus of each alignment \n",
    "        consensus = summary.dumb_consensus() \n",
    "        #create a fasta format sequence using the consensus sequence and recordname\n",
    "        seq_record = SeqRecord(Seq(consensus), id=recordname) \n",
    "        #add each concensus seq to a list \n",
    "    return seq_record\n",
    "\n",
    "\n",
    "def concensus_file(directory=output):\n",
    "    \"\"\"create a consensus sequence for each breed and store it in a list\"\"\"\n",
    "    #create a list to store the sequences\n",
    "    consensus_sequences = [] \n",
    "    for file in unique_breeds():\n",
    "        #run the concensus_seq function to get the concensus file of each breed in the concensus list \n",
    "        consensus_sequences.append(concensus_seq(file))\n",
    "    #get sequence from file \n",
    "    unknown_sequence = SeqIO.read(mystery_breed, \"fasta\") \n",
    "    #add mystery sequence to the concensus file list \n",
    "    consensus_sequences.append(SeqRecord(unknown_sequence.seq, id=\"mystery_sequence\"))\n",
    "    return consensus_sequences\n",
    "\n",
    "#store concensus sequences in a results folder in a file called concensus_sequences\n",
    "create_output(concensus_file(), \"concensus_sequences\", \"fasta\" )\n"
   ]
  },
  {
   "cell_type": "code",
   "execution_count": 7,
   "metadata": {},
   "outputs": [],
   "source": [
    "def simple_alignment(seq1,seq2):\n",
    "    \"\"\"align two sequences given as parameters and return alignment score and alignment\"\"\"\n",
    "    aligner = Bio.Align.PairwiseAligner() \n",
    "    score = aligner.score(seq1, seq2)\n",
    "    alignment = aligner.align(seq1, seq2)\n",
    "    return score, alignment\n",
    "\n",
    "def read_fasta(filename):\n",
    "    \"\"\"function which reads a fasta file and returns a list of sequiences found in the file\"\"\"\n",
    "    sequences = []\n",
    "    for record in SeqIO.parse(filename, \"fasta\"): \n",
    "        sequences.append(record.seq)\n",
    "    return(sequences)\n",
    "\n",
    "#get concensus sequences\n",
    "consensus_file = f\"{output}/concensus_sequences\"\n",
    "consensus_sequences = read_fasta(consensus_file)\n",
    "#get mystery sequences\n",
    "mystery_sequence = read_fasta(mystery_breed)\n",
    "\n"
   ]
  },
  {
   "cell_type": "code",
   "execution_count": 8,
   "metadata": {},
   "outputs": [
    {
     "name": "stdout",
     "output_type": "stream",
     "text": [
      "[Seq('GTTAATGTAGCTTAATTAATAAAGCAAGGCACTGAAAATGCCAAGATGAGTCGC...TAA'), Seq('GTTAATGTAGCTTAATTAATAAAGCAAGGCACTGAAAATGCCAAGATGAGTCGC...TAA'), Seq('GTTAATGTAGCTTAATTAATAAAGCAAGGCACTGAAAATGCCAAGATGAGTCGC...TAA'), Seq('GTTAATGTAGCTTAATTAATAAAGCAAGGCACTGAAAATGCCAAGATGAGTCGC...TAA'), Seq('GTTAATGTAGCTTAATTAATAAAGCAAGGCACTGAAAATGCCAAGATGAGTCGC...TAA'), Seq('GTTAATGTAGCTTAATTAATAAAGCAAGGCACTGAAAATGCCAAGATGAGTCGC...TAA'), Seq('GTTAATGTAGCTTAATTAATAAAGCAAGGCACTGAAAATGCCAAGATGAGTCGC...TAA'), Seq('GTTAATGTAGCTTAATTAATAAAGCAAGGCACTGAAAATGCCAAGATGAGTCGC...TAA'), Seq('GTTAATGTAGCTTAATTAATAAAGCAAGGCACTGAAAATGCCAAGATGAGTCGC...TAA'), Seq('GTTAATGTAGCTTAATTAATAAAGCAAGGCACTGAAAATGCCAAGATGAGTCGC...TAA'), Seq('GTTAATGTAGCTTAATTAATAAAGCAAGGCACTGAAAATGCCAAGATGAGTCGC...TAA'), Seq('GTTAATGTAGCTTAATTAATAAAGCAAGGCACTGAAAATGCCAAGATGAGTCGC...TAA'), Seq('GTTAATGTAGCTTAATTAATAAAGCAAGGCACTGAAAATGCCAAGATGAGTCGC...TAA'), Seq('GTTAATGTAGCTTAATTAATAAAGCAAGGCACTGAAAATGCCAAGATGAGTCGC...TAA'), Seq('GTTAATGTAGCTTAATTAATAAAGCAAGGCACTGAAAATGCCAAGATGAGTCGC...TAA'), Seq('GTTAATGTAGCTTAATTAATAAAGCAAGGCACTGAAAATGCCAAGATGAGTCGC...TAA'), Seq('GTTAATGTAGCTTAATTAATAAAGCAAGGCACTGAAAATGCCAAGATGAGTCGC...TAA'), Seq('GTTAATGTAGCTTAATTAATAAAGCAAGGCACTGAAAATGCCAAGATGAGTCGC...TAA'), Seq('GTTAATGTAGCTTAATTAATAAAGCAAGGCACTGAAAATGCCAAGATGAGTCGC...TAA'), Seq('GTTAATGTAGCTTAATTAATAAAGCAAGGCACTGAAAATGCCAAGATGAGTCGC...TAA'), Seq('GTTAATGTAGCTTAATTAATAAAGCAAGGCACTGAAAATGCCAAGATGAGTCGC...TAA'), Seq('GTTAATGTAGCTTAATTAATAAAGCAAGGCACTGAAAATGCCAAGATGAGTCGC...TAA'), Seq('GTTAATGTAGCTTAATTAATAAAGCAAGGCACTGAAAATGCCAAGATGAGTCGC...TAA'), Seq('GTTAATGTAGCTTAATTAATAAAGCAAGGCACTGAAAATGCCAAGATGAGTCGC...TAA'), Seq('GTTAATGTAGCTTAATTAATAAAGCAAGGCACTGAAAATGCCAAGATGAGTCGC...TAA'), Seq('GTTAATGTAGCTTAATTAATAAAGCAAGGCACTGAAAATGCCAAGATGAGTCGC...TAA'), Seq('GTTAATGTAGCTTAATTAATAAAGCAAGGCACTGAAAATGCCAAGATGAGTCGC...TAA'), Seq('GTTAATGTAGCTTAATTAATAAAGCAAGGCACTGAAAATGCCAAGATGAGTCGC...TAA'), Seq('GTTAATGTAGCTTAATTAATAAAGCAAGGCACTGAAAATGCCAAGATGAGTCGC...TAA'), Seq('GTTAATGTAGCTTAATTAATAAAGCAAGGCACTGAAAATGCCAAGATGAGTCGC...TAA'), Seq('GTTAATGTAGCTTAATTAATAAAGCAAGGCACTGAAAATGCCAAGATGAGTCGC...TAA'), Seq('GTTAATGTAGCTTAATTAATAAAGCAAGGCACTGAAAATGCCAAGATGAGTCGC...TAA'), Seq('GTTAATGTAGCTTAATTAATAAAGCAAGGCACTGAAAATGCCAAGATGAGTCGC...TAA'), Seq('GTTAATGTAGCTTAATTAATAAAGCAAGGCACTGAAAATGCCAAGATGAGTCGC...TAA'), Seq('GTTAATGTAGCTTAATTAATAAAGCAAGGCACTGAAAATGCCAAGATGAGTCGC...TAA'), Seq('GTTAATGTAGCTTAATTAATAAAGCAAGGCACTGAAAATGCCAAGATGAGTCGC...TAA'), Seq('GTTAATGTAGCTTAATTAATAAAGCAAGGCACTGAAAATGCCAAGATGAGTCGC...TAA'), Seq('GTTAATGTAGCTTAATTAATAAAGCAAGGCACTGAAAATGCCAAGATGAGTCGC...TAA'), Seq('GTTAATGTAGCTTAATTAATAAAGCAAGGCACTGAAAATGCCAAGATGAGTCGC...TAA')]\n",
      "GTTAATGTAGCTTAATTAATAAAGCAAGGCACTGAAAATGCCAAGATGAGTCGCACGACTCCATAAACATAAAGGTTTGGTCCTAGCCTTCCTATTAGTTTTTAGTAGACTTACACATGCAAGCCTCCACGCCCCAGTGAGAATGCCCTTAAAATCACCAGTGATCTAAAGGAGCAGGTATCAAGCACACTCTTAAGTAGCTCATAACACCTTGCTAAGCCACACCCCCACGGGATACAGCAGTGATAAAAATTAAGCCATAAACGAAAGTTTGACTAAGCCATACTAAATAGGGTTGGTAAATTTCGTGCCAGCCACCGCGGTCATACGATTAACCCAAACTAATAGGCCTACGGCGTAAAGCGTGTTCAAGATACTTTTACACTAAAGTTAAAACTTAACTAAGCCGTAAAAAGCTACAGTTATCATAAAATAAACCACGAAAGTGACTTTATAATAATCTGACTACACGATAGCTAAGACCCAAACTGGGATTAGATACCCCACTATGCTTAGCCCTAAACATAGATAATTTTACAACAAAATAATTCGCCAGAGGACTACTAGCAATAGCTTAAAACTCAAAGGACTTGGCGGTGCTTTATATCCCTCTAGAGGAGCCTGTTCTATAATCGATAAACCCCGATAAACCTCACCACCTTTCGCTAATTCAGTCTATATACCGCCATCTTCAGCAAACCCTCAAAAGGTAGAACAGTAAGCACAATCATTTTACATAAAAAAGTTAGGTCAAGGTGTAACTTATGAGGTGGGAAGAAATGGGCTACATTTTCTACCCAAGAACATTTCACGAATGTTTTTATGAAATTAAAAACTGAAGGAGGATTTAGTAGTAAATTAAGAATAGAGAGCTTAATTGAATAGGGCCATGAAGCACGCACACACCGCCCGTCACCCTCCTCAAGTAATAAGACACAACCATAACCATATTAACTTAACTAAAACACAAGAGGAGACAAGTCGTAACAAGGTAAGCATACCGGAAGGTGTGCTTGGATTAATCAAAGTGTAGCTTAACTAAAGCGTCTGGCCTACACCCAGAAGATTTCATTACTTATGGCCACTTTGAACAAAAGCTAGCCCAACTAACCCCAAACTTAAGTATTACAGACACATAAAATAAAACATTTAGTTAAACAATAAAAGTATAGGAGATAGAAATTTTAATTGGAGCGATAGAGATAGTACCGTAAGGGAATGATGAAAGACATCTTAACAGTATTAAACAGCAAAGATTACCCCTTCTACCTTTTGCATAATGAACTAGCCAGAAACAACTTAACAAAGAGAACTTAAGCTAAGCTCCCCGAAACCAGACGAGCTACCCATAAACAATCTAAAAGGATCAACTCATCTATGTAGCAAAATAGTGAGAAGATTTGTGGGTAGAGGTGAAAAGCCTAACGAGCCTGGTGATAGCTGGTTACCCACAGACAGAATTTTAGTTCAACTTTAAATTTACCTAAAAAAAATAAAATTTTAATGTAAATTTAAAATATAGTCTAAGAAGGTACAGCTTCTTAGAATCAGGATACAACCTTTATTAGAGAGTATATACTAATATCACCATAGTTGGCTTAAAAGCAGCCACCAATTGAGAAAGCGTTCCAGCTCAACAAACAATATAACTTAATCCCAACCATACTACATCAACTCCTAATTATACCCCCTGGGTCATTCTATTTAAGTATAGAAGCAATAATGCTAGTATGAGTAACAAGAACCATTTTCTCCCCGCATAAGCTTATATCAGGAACGGATAGACCACTGATAGTTAACAATCTGATAATATCAACCCAAAAATGAAATACTTATCCACCCCATTGTTAACCCAACACAGGTATGCATTCAAGGAAAGATTAAAAGGAGTAAAAGGAACTCGGCAAACACAAACCCCGCCTGTTTACCAAAAACATCACCTCCAGCATTTCTAGTATTGGAGGCACTGCCTGCCCGGTGACACTTGTTTAACGGCCGCGGTATCCTGACCGTGCAAAGGTAGCATAATCATTTGTTCTCTAAATAGGGACTTGTATGAATGGCCACACGAGGGTTTAACTGTCTCTTACTCCCAATCAGTGAAATTGACCTTCCCGTGAAGAGGCGGGAATACCACAATAAGACGAGAAGACCCTATGGAGCTTTAATTAACTAACCCAAACTTATGGATACTAGATACCTACAAGGCATAACATAACACCATTATTATGAGTTAGCAATTTAGGTTGGGGTGACCTCGGAATATAAAAAAACTCCCGAGTGATTAAAATTTAGACCCACAAGTCAAAATACAACATCACTTATTGATCCAATAATTTTTGATCAACGGAACAAGTTACCCTAGGGATAACAGCGCAATCCTATTCAAGAGTCCATATCGACAATAGGGTTTACGACCTCGATGTTGGATCAGGACATCCTAATGGTGCAGCAGCTATTAAGGGTTCGTTTGTTCAACGATTAAAGTCCTACGTGATCTGAGTTCAGACCGGAGTAATCCAGGTCGGTTTCTATCTATTATACAACCTCCCCCAGTACGAAAGGACAAGGGATGTAAGGCCTACCTCACAGAGGCGCCTTAAAACTAATAGATGAAGTCAACTCAATCTAACCAGTTTATCTCCTCATAAGCCCGAGAAAAGGGGCTTTGTTAGGGTGGCAGGGCCCGGTAACTGCGTAAAACTTAAACCTTTACTATCAGAGGTTCAATTCCTCTCCCTAACAAAATGTTCTTTATCAACATTATCTCTCTTATTATCCCAATCCTTCTTGCCGTAGCCTTCCTCACCCTCGTTGAACGAAAAGTCTTAGGCTATATACAACTTCGAAAAGGACCTAATATTGTAGGCCCCTACGGCCTCCTTCAACCAATCGCAGACGCAGTAAAACTCTTCACAAAAGAACCTCTACGACCACTTACATCCTCTATATCAATATTCATCCTAGCCCCCATTCTAGCTCTATCACTAGCCCTAACTATGTGAATTCCCCTCCCAATACCCTACCCACTCATTAATATAAACTTGGGAGTCCTATTCATACTAGCAATATCAAGCCTCGCCGTGTACTCCATCCTCTGATCAGGATGAGCCTCAAACTCCAAATACGCCCTAATCGGAGCCCTTCGAGCAGTAGCTCAAACAATCTCATATGAAGTAACGCTAGCAATTATTCTTCTATCAGTCCTCCTAATAAACGGGTCATTTACACTATCCACGCTAATTATTACCCAAGAACATATATGATTAATCTTTCCGGCCTGACCCCTAGCCATGATATGATTCATCTCTACCCTAGCAGAAACTAATCGAGCCCCCTTCGACTTAACTGAAGGAGAATCCGAACTAGTCTCTGGATTTAACGTAGAGTATGCAGCAGGTCCTTTCGCCCTATTCTTTCTAGCAGAGTACGCAAATATTATTATAATAAACATCCTCACAACAATTCTGTTCTTCGGCGCATTCCACAACCCATTCATACCAGAACTCTACTCTATTAACTTCACTATAAAAACCCTCTTATTAACCATCTGCTTCCTATGAATTCGAGCATCATACCCTCGATTCCGCTACGATCAGTTAATACACTTATTATGAAAAAATTTTCTACCCTTAACTTTAGCCCTATGCATATGACATGTTGCCTTACCCATTATCACCGCAAGTATCCCACCCCAAACATAAGAAATATGTCTGATAAAAGAGTTACTTTGATAGAGTAAATAATAGAGGTTTAAATCCTCTTATTTCTAGAATAATAGGCTTCGAACCTAATCTTAAGAATTCAAAGATCTTCGTGCTACCAAACTTACACTATATTCTACAGTAAGGTCAGCTAAATTAAGCTATCGGGCCCATACCCCGAAAATGTTGGTTTATACCCTTCCCGTACTAATAAAACCCCCTATTCTCATTATCATCATAGCAACTATCATGACAGGAACCATAATCGTCATACTAAGCTCGCACTGATTACTGATCTGAATTGGATTCGAAATAAACATGCTAGCCATCATCCCTATTCTCATAAAAAAGTACAATCCACGAGCCATAGAGGCCTCTACAAAATATTTTCTTACACAAGCTACAGCCTCAATATTACTAATAATAGGAGTCACTATCAACCTCCTTTACTCCGGCCAATGGGTAATCTCAAAAATCTCAAACCCCATCGCATCCATCATGATAACCACTGCCCTAACAATAAAACTAGGCCTATCTCCATTCCACTTCTGAGTTCCCGAAGTAACACAGGGAATTACGCTCATATCAGGAATAATCCTACTAACATGACAAAAAATCGCACCTATATCCATCCTATATCAAATCTCTCCATCAATTAACACTAACCTTCTTATACTAATAGCCCTTACATCCGTTCTAGTAGGAGGCTGAGGCGGACTAAATCAAACTCAACTACGAAAAATCATAGCATACTCCTCCATTGCCCACATAGGCTGAATAGCCGCTATCATTACTTATAACCCTACAATAATAGTTCTAAACTTAACTTTATATATTCTAATAACACTATCTACCTTCATACTATTTATATTAAACTCATCCACCACGACCCTATCTTTATCCCACATATGAAACAAATTTCCCCTAATCACTTCCATAATCTTAATCTTAATACTATCCCTAGGAGGACTACCCCCATTATCTGGCTTCATCCCCAAATGAATAATTATTCAAGAATTAACGAAAAATAACATAATTATTATTCCAACACTAATGGCTATCACCGCTCTACTTAACTTATATTTCTACCTGCGACTCACATATAGCACCGCACTTACCATATTTCCATCCACAAACAACATAAAAATAAAATGACAGTTCGAATACACAAAAAAGGCAACCCTATTACCCCCCTTAATTATTACCTCAACTATACTACTCCCACTAACACCTATATTATCAGTCTTGGACTAGGAGTTTAGGTTAGACCAGACCAAGAGCCTTCAAAGCTCTAAGCAAGTGCTACACACTTAACCCCTGATCAAATCACCTCTAAGGGCTGCAAGAATCTATCTTACATCAATTGAATGCAAATCAAACACTTTAATTAAGCTAAGCCCTCCCTAGATTGGTGAGCTTCTACCTCACGAAATTTTAGTTAACAGCTAAATACCCTAGTAACTGGCTTCAATCTACCTTCTCCCGCCGCGTAGAAAAAAAAGGCGGGAGAAGCCCCGGCGGCGTCTAGGCTGCTTCTTTGAATTTGCAATTCAATATGAAAATTCACCACGGAGCTTGGCAAAAAGAGGACTTAAACCCCTATCTTTAGATTTACAGTCTAATGCTTTTATCAGCCATTTTACCTATGTTCATTAACCGATGATTGTTCTCCACTAATCACAAGGATATTGGTACTTTATACTTACTATTTGGAGCATGAGCCGGTATAGTAGGCACTGCCTTGAGCCTCCTCATCCGAGCCGAACTAGGTCAGCCCGGTACTTTACTAGGTGACGATCAAATTTATAATGTCATCGTAACCGCCCATGCTTTCGTAATAATCTTCTTCATAGTCATGCCCATCATAATTGGGGGCTTTGGAAACTGACTAGTGCCGTTAATAATTGGTGCTCCGGACATGGCATTCCCCCGAATAAATAACATGAGCTTCTGACTCCTTCCTCCATCCTTTCTTCTACTATTAGCATCTTCTATGGTAGAAGCAGGTGCAGGAACGGGATGAACCGTATACCCCCCACTGGCTGGCAATCTGGCCCATGCAGGAGCATCCGTTGACCTTACAATTTTCTCCTTACACTTAGCCGGAGTCTCTTCTATTTTAGGGGCAATTAATTTCATCACTACTATTATCAACATAAAACCCCCTGCAATATCCCAGTATCAAACTCCCCTGTTTGTATGATCAGTACTAATTACAGCAGTTCTACTCTTACTATCCCTGCCTGTACTGGCTGCTGGAATTACAATACTTTTAACAGACCGGAATCTTAATACAACATTTTTTGATCCCGCTGGAGGAGGAGACCCTATCCTATATCAACACCTATTCTGATTCTTCGGGCATCCTGAAGTTTACATTCTTATCCTGCCCGGATTCGGAATAATTTCTCACATTGTCACTTACACTCAGGGAAAAAAGAGCCTTTCGGTTATATAGGAATAGTATGAGCAATAATATCTATTGGGTTTTTAGGCTTTATCGTATGAGCTCACCATATGTTTACCGTAGGAATAGATGTAGACACACGAGCGTACTTTACGTCCGCCACTATAATTATCGCTATTCCAACGGGAGTAAAAGTATTTAGTTGACTGGCAACACTTCATGGAGGCAATATTAAATGATCTCCAGCTATGCTATGAGCTTTAGGGTTTATTTTCTTATTTACAGTAGGCGGGTTAACAGGTATTGTCCTAGCTAATTCGTCCTTAGACATCGTTCTTCATGATACATATTATGTTGTGGCTCATTTTCACTATGTGCTTTCAATAGGAGCAGTTTTTGCCATTATGGGAGGATTTGCCCACTGATTCCCTTTATTCTCAGGTTATACTCTTAACGATACTTGAGCAAAGATTCACTTTACAATTATGTTTGTGGGAGTAAATATAACTTTCTTCCCTCAACATTTCCTAGGTTTATCTGGAATACCTCGTCGATACTCTGACTACCCAGATGCATATACTACCTGAAATACCGTCTCCTCTATAGGATCGTTTATCTCGCTTACAGCGGTGATGCTTATAATTTTTATGATCTGGGAAGCCTTTGCATCCAAACGAGAAGTTGCTATAGTAGAACTTACTACAACTAACATTGAGTGACTACATGGATGTCCCCCTCCATACCACACGTTCGAAGAACCTACATATGTGATCCAAAAATAAGAAAGGAAGGAATCGAACCCCCTAAAATTGGTTTCAAGCCAATGTCATAACCATTATGTCTTTCTCAATCAGGAGGTATTAGTAAAACATTACATGACTTTGTCAAAGTTAAATTATAGGTGAAACCCCTATATATCTCTATGGCGTACCCATTTCAACTCGGATTACAGGACGCAACCTCCCCTATTATAGAGGAGCTACTTCATTTTCATGACCATACACTAATAATTGTATTCTTAATCAGTTCTTTAGTTCTCTATATCATTTCACTAATATTGACTACAAAATTAACCCATACAAGCACAATAGACGCACAAGAAGTGGAAACAGTATGAACCATTCTACCCGCCATTATCCTAATCCTAATCGCTCTACCTTCCCTCCGAATCCTTTATATAATGGACGAAATTAATAACCCCTCTTTAACCGTGAAAACAATAGGCCACCAATGATACTGAAGCTATGAATATACTGACTATGAAGACTTAAACTTTGACTCCTACATAATCCCAACACAAGAATTAAAGCCAGGAGAACTCCGACTATTAGAAGTAGACAACCGAGTTGTCCTCCCAATAGAAATAACCATCCGAATACTTATCTCTTCAGAAGACGTTTTGCATTCATGAGCCGTTCCATCACTAGGTCTAAAAACTGACGCTATTCCAGGACGACTAAACCAAACCACCCTTATAGCCATACGACCAGGACTGTACTATGGCCAGTGCTCTGAAATCTGCGGATCTAACCACAGCTTTATACCCATTGTTCTTGAAATAGTCCCCCTATCTTACTTTGAGACCTGATCTGCCTTAATAGTATAACCTAGACTAGATCTACTCATTAAGAAGCTATAAAGCATTAACCTTTTAAGTTAAAGACTGGGAGTTTTAACCTCTCCTTAATGAAATGCCACAGCTAGATACATCCACCTGATTTATTATAATCTTTTCAATATTTCTCACCCTCTTCATCCTATTTCAACTAAAAATTTCAAATCACTACTACCCAGAAAACCCGATAACCAAATCTGCTAAAATTGCTGGTCAACATAATCCTTGAGAAAACAAATGAACGAAAATCTATTCGCTTCTTTCGCTGCCCCCTCAATAATAGGTCTCCCTATTGTGGTACTGATCGTCATATTCCCTTCCATTTTATTCCCAACACCCAGTCGCCTAATCAATAATCGGTTAATCTCCATTCAGCAATGACTAATTCAACTAACATCAAAACAAATACTAGCAATTCATAACCAAAAGGGACGAACCTGAGCTCTCATACTTATATCACTAATTCTATTTATTGGCTCAACTAATCTACTTGGACTATTACCTCACTCATTTACGCCCACAACACAACTCTCTATAAACCTCGGAATAGCAATTCCCCTATGAGCAGGGACAGTAATTACCGGTTTCCGCTATAAAACCAAAGCATCCTTAGCACACTTTCTACCCCAAGGCACCCCTCTTCCCCTAATTCCAATACTAGTAGTCATCGAAACTATTAGTCTATTTATTCAACCCATGGCTCTAGCCGTTCGATTAACCGCCAATATTACTGCAGGACACCTCCTAATCCACTTGATTGGAGGGGCTACCTTAGCTCTTATCAATATTAGCGCGACCACAGCTTTTATCACTTTTATTATTCTAATCCTACTTACGATCCTAGAATTTGCTGTTGCCTTAATTCAAGCCTATGTTTTTACCTTACTAGTGAGTCTATACTTACATGACAACACCTAATGACCCACCAAACTCACGCTTACCACATAGTCAACCCAAGCCCATGACCGCTGACAGGGGCCCTTTCTGCCCTCCTTATAACATCGGGTCTTATCATATGATTTCACTATAACTCAATAGCCCTACTTACATTAGGATTCACAACCAACCTGTTAACCATATACCAGTGATGACGAGATGTGATCCGAGAAGGCACATTCCAAGGACATCATACCCCTATTGTACAAAAAGGACTACGATACGGAATAGTTCTTTTTATCGTATCAGAAGTATTTTTCTTTGCAGGCTTCTTCTGAGCCTTTTACCACTCCAGCCTAGCCCCTACTCCTGAACTTGGGGGTTGCTGACCTCCTACCGGCATTATTCCTCTTAACCCATTAGAAGTGCCTCTACTCAACACCTCAGTCCTCCTAGCCTCCGGAGTATCTATTACTTGAGCCCATCATAGTTTAATAGAAGGTAATCGCAAACATATACTTCAAGCCTTATTCATTACAATCTCCTTAGGCGTATATTTTACGCTATTACAGGCCTCCGAATACTATGAGACATCTTTTACAATCTCCGATGGGGTATACGGATCTACCTTTTTTATAGCCACTGGATTTCACGGATTACACGTAATTATTGGCTCTACATTCCTCATCGTGTGCTTCCTCCGACAGCTATACTACCACTTCACATCAAACCACCACTTCGGATTTGAAGCCGCTGCATGATATTGACACTTTGTTGATGTAGTCTGGCTATTCTTGTATGTATCTATTTATTGATGAGGATCCTATTTCTTTAGTATAACTAGTACAATTGACTTCCAATCAGTTAGCTCCAGATCAACCTGGAAAGAAGTAATAAACGTTATATTAACTTTGATAACTAATGTAACCCTAGCATCCTTACTTGTACTAATCGCATTCTGACTTCCCCAGCTAAATATCTATACAGACAAGACAAGCCCCTACGAATGTGGTTTTGACCCCATGGGATCTGCTCGCCTACCTTTCTCTATAAAATTTTTCCTAGTTGCCATCACATTTCTGCTTTTCGACCTAGAAATTGCACTCCTACTCCCACTTCCCTGAGCGTCACAAACCAACAAGCTAACAACAATACTTATCATAGCACTCCTACTAATCTCCCTCCTAGCTGCGAGCCTAGCGTATGAATGGACCGAAAAGGGGCTAGAATGAACCGAATATGATAATTAGTTTAAGCCAAAAACAAATGATTTCGACTCATTAGATTATGATTTATCTCATAATTATCATGTGTCCATAGTATATATTAATATCTTTCTGGCATTCATTCTTTCTCTAATAGGTATACTTGTTTATCGATCACACCTAATATCATCGCTACTATGCTTAGAGGGCATAATATTATCACTATTTGTAATAATATCTGTAACTATTCTCAACAATCACCTCACATTAGCCAGCATGATACCAATCGTACTACTAGTATTTGCTGCCTGCGAAGCAGCATTAGGACTATCTCTACTAGTTATAGTATCTAACACCTACGGGACTGATTACGTACAAAACCTAAACCTTTTACAATGCTAAAAATTATCATCCCTACTATCATACTAATCCCCCTTACATGAATATCAAAGCCTAACATAATCTGAATTAACACGACAACATATGGTTTGCTAATCAGCTTAATCAGCTTATTCTACCTAAACCAACCAAATGATAATACATTGAACTCCTCCTTAATATTTTTCTCTGATTCCCTATCGGCACCACTATTAGCACTCACAACATGACTTCTGCCCCTTATACTTATAGCAAGTCAACACCATTTATCAAAAGAACCCTTAACTCGAAAAAAACTATATATTTCAATACTAATTCTTCTCCAATTGTTCCTAATTATAACTTTCACAGCCTCTGAACTCATCTTCTTTTACATCCTATTTGAAGCAACACTGATTCCGACCCTGATCATTATTACCCGATGAGGAAATCAAACTGAACGACTAAACGCAGGACTCTACTTCTTATTTTATACTTTAATAGGATCCCTCCCACTCCTAGTAGCTCTCCTTTATATCCACAATTTCATGGGCTCCCTAAATTTTCTCATAATTCAATACTGAATCCAGCCTCTGCCAAACTCCTGATCTAATATTTTCCTATGACTGGCATGCATAATAGCATTCATAGTAAAGATACCTCTATACGGCCTCCACTTGTGACTACCAAAAGCACACGTAGAGGCCCCTATTGCCGGCTCCATAGTACTTGCCGCTGTACTCCTAAAACTAGGGGGCTATGGCATGATACGAATTACAACCCTACTAAATCCCCTGACCAATTTCATAGCATACCCCTTCATAATATTGTCTCTATGAGGCATAATCATAACAAGCTCTATCTGTCTCCGTCAAACAGATCTAAAATCCCTAATTGCATACTCCTCAGTTAGTCATATGGCACTGGTTATCGTAGCGGTTCTTATTCAAACACCATGAAGTTATATAGGTGCAACAGCTCTAATAATTGCCCATGGTTTAACATCCTCAATACTATTCTGCTTAGCCAACTCCAATTACGAACGAATCCATAGCCGTACTATAATTCTCGCACGAGGACTTCAAACTCTCCTTCCCCTAATAGCAGCCTGATGACTATTAGCAAGCCTCACAAATCTGGCTCTCCCTCCAACAATTAATCTTATCGGAGAACTATTTGTAGTGATATCCTCATTCTCATGATCCAACATTACTATTATCCTAATAGGAATTAACATTATCATCACCGCCCTATACTCACTTTATATATTAATCACCACACAACGTGGTAAATATTCCCACCATATCAAAAATATCAAACCATCATTCACACGAGAAAATGCCCTAATGACCTTACACCTACTGCCCCTACTCCTCCTATCCCTTAACCCTAAAATTATTCTCGGTCCCATCTACTGTAAGCATAGTTTAACAAAAACATTAGATTGTGAGTCTAACAATAAAAGCTCAAACCTTTTTGCTTACCGAAAAAGTACTGCAAGAACTGCTAATTCATGCTCCCATGCATAAGAACATGGCTTTTTCAACTTTTATAGGATAGAAGTAATCCGTTGGTCTTAGGAACCAAAAAATTGGTGCAACTCCAGATAAAAGTAATAAATATATTTTCTTCATGCATAATCACAGCCCTAGTTATTCTTACTTTGCCCATCATTATATCCTCTACTAAACTTTACAAGAATAAGCTATACCCATACTATGTAAAAACCGCTACTTCTTACGCGTTCATAATTAGCATAATTCCCACAATAATATTCATCTACTCAGGACAGGAAACAATCATTTCAAACTGGCATTGAATAACAATCCAAACTATAAAACTATCCATGAATTTCAAATTAGACTACTTCTCAATAATCTTTGTACCTGTAGCCCTTTTTGTCACGTGGTCTATCATAGAATTCTCTATATGATATATACACTCCGATCCTTACATTAACCGGTTTTTCAAGTACCTTCTCTTATTCCTCATCACTATAATAGTCCTAGTTACCGCAAACAACATATTCCAACTATTCATTGGTTGAGAAGGAGTTGGCATTATATCATTCCTACTTATTGGATGATGGTACGGCCGAACCGATGCAAATACAGCCGCCCTACAAGCCGTCCTCTACAACCGTATTGGAGATGTAGGCTTCATTATAACCATAGCATGATTTCTACTAAACTTAAACACATGAGACCTTCAACAAATCTTCATTACGACAAACGATAATTTTAATCTGCCACTACTTGGCCTACTACTAGCAGCTACCGGTAAATCTGCTCAATTCGGCCTACATCCCTGACTCCCCTCAGCCATAGAAGGCCCCACTCCTGTATCAGCCCTACTTCACTCAAGCACAATAGTTGTAGCAGGAGTATTTCTTCTTATCCGCTTTCATCCACTAATAGAGCATAACCAAACTATTCAAACCCTCACTTTATGCTTAGGGGCCATTACTACACTATTTACCGCAATCTGCGCTCTTACACAGAATGATATCAAAAAAATTGTAGCGTTCTCTACCTCAAGCCAACTAGGCCTAATAATAGTAACAATTGGCATTAACCAGCCCTACTTAGCCTTCTTACACATCTGCACTCACGCATTTTTTAAAGCTATACTATTCATATGCTCAGGGTCAGTTATCCACAGCCTAAACGATGAACAAGACATTCGAAAAATGGGTGGCCTATTTAAAGTCCTTCCCTTCACCACAACCTCCCTTATTATCGGAAGCCTCGCATTAACAGGCATGCCTTTCCTTACAGGATTCTACTCCAAAGACCTGATCATCGAGTCCGCTAACACGTCGAATACCAACGCCTGAGCCCTCTTAATTACACTCGTTGCCACATCCCTAACCGCTGCCTACAGCACCCGAATTATATTCTTTGCTCTACTAGGCCAGCCCCGCTTCTCCCCTATAATCCTTATCAACGAGAATAATCCTCTCCTAATTAACTCTATTAAACGACTCCTTATCGGAAGTGTATTTGCAGGGTATATTATCTCCCACAGCATCACACCCACTACCATCCCACAGATAACTATGCCTCATTATCTAAAAATGACAGCCCTTGCAGTAACCACCTTGGGTTTCATCCTGGCACTAGAACTAAACCTTACCACACAAGGACTCAAATTTAACTATCCTTCTAATTACTTTAAATTCTCCAGCCTCCTTGGCTACTATCCAACCATTATGCACCGCCTCACACCTAAAACAAGTTTAACCATTAGCCAGAAATCAGCATCTATACTTCTGGACTCCATCTGACTAGAAAACATCCTACCCAAATCAATCTCATATTTCCAAATAAAATCTTCTACCCTTATTTCAAATCAAAAAGGTCTCATCAAACTCTATTTCCTATCGTTCATACTAACTATAATCCTCAGTCTACTAATCCTTAATTACCACGGGTAACTTCCATGATAACCAACACACCAATTAATAATGATCAGCCTGTAACAACCACCAACCAAGTCCCATAACTGTACAGAGCCGCAATACCCATAGCCTCTTCACTAAAAAACCCAGAGT-CCCCCGTATCATAGATCACTCAATCCCCTATTCCATTAAACTTTAATACTACCTCCACCTCGTCATCCTTCAAAATATAGCAAGCAGTCAACAATTCAGACAACAAACCAGTAATAAAAGCCGCTAGAACAGCCTTATTTGAAACTCACACCTCAGGGTATTGCTCAGTAGCCATAGCAGTTGTATAACCAAATACTACTAATATACCCCCCAAATAAATTAAAAATACTATCAACCCTAAAAAAGAACCCCCAAAATTCAGAACAATCGCACAACCAATCCCACCGCTAATAATTAGCACAAGCCCACCATAAATAGGAGATGGTTTAGTGGCAAAACCCACAAAACTCATCACAAAAACGATACTTAAAATAAATACAATGTATGTTATCATTATTCCTACATGGAATTTAACCATGACTAATGACATGAAAAATCATCGTTGTA--TTTCAACTATAAGAACATTAATGACCAACATTCGAAAAACCCACCCACTAGCC-AAAATTGTTAATAACTCATTCATTGACCTCCCAGCGCCGTCTAACATCTCTGCTTGATGGAACTTCGGATCCTTACTAGGAGTATGCTTGATTCTACAGATTCTAACAGGTTTATTCTTAGCTATGCACTATACATCGGACACAGCCACAGCTTTTTCATCAGTCACCCACATCTGCCGAGACGTTAACTACGGCTGAATTATCCGCTATATGCACGCAAATGGCGCTTCCATATTCTTTATCTGCCTATTCCTACATGTAGGACGAGGCCTATATTACGGATCCTATGTATTCATAGAAACATGAAACATTGGAATTGTACTATTATTCGCAACCATAGCCACAGCATTCATGGGCTATGTACTACCATGAGGACAAATATCATTTTGAGGAGCAACTGTAATCACTAATCTTCTCTCTGCCATCCCTTATATCGGAACTGACTTAGTAGAATGGATCTGAGGCGGCTTCTCAGTGGACAAAGCAACCCTAACACGATTCTTTGCATTCCATTTCATCCTCCCTTTCATCATCGCAGCTCTAGCAATAGTACACCTCCTATTTCTACACG-AAACCGGATCCAACAACCCTTCAGGAATCACATCAGACTCAGACAAAATTCCATTTCACCCTTACTACACAATCAAGGATATCCTAGGAGCCTTACTCCTACTCCTAATCCTAATATCACTAGTTTTATTTTCACCTGACCTATTAGGAGACCCAGATAACTACACCCCTGCAAACCCCCTAAACACCCCT-CCACATATTAAACCTGAGTGATATTTTCTATTCGCCTATGCTATCCTACGATCCATTCCTAATAAATTAGGAGGTGTACTCGCCCTAGTATTCTCCATCCTAATCTTGGCATTCATTCCACTCCTCCACACATCTAAGCAACGCAGCATAATATTCCGGCCCCTTAGCCAATGCCTATTCTGACTTTTAGTCGCCGATCTTCTCACTTTAACATGAATTGGAGGACAACCAGTTGAGCACCCTTTCATCATTATCGGACAAGTCGCTTCAATCTTATATTTCACCATCTTATTGATCCTAATACCAACAGTTAGCGTTATCGAAAACAACCTTCTAAAATGAAGAGTCTTTGTAGTATAATCATTACCTTGGTCTTGTAAACCAAAAATGGAGAGTAACCGCCCTCCCTAAGACTCAAGGAAGAAGCTCTTGCTCCACCATCAGCACCCAAAGCTGAGATTCTTCTTAAACTATTCCCTGACACCCCTACATTCATATATTGAATCACCCCTACTGTGCTATGTCAGTATCTCCAGGTAAACCCTTCTCCCCTCCCCTATGTACGTCGTGCATTAATGGTTTGCCCCATGCATATAAGCATGTACATAATATTATATCCTTACATAGGACATATTAACTCAATCTCATAATTCACTGATCTTTCAACAGTAATCGAATGCATATCACTTAGTCCAATAAGGGCTTAATCACCATGCCTCGAGAAACCATCAACCCTTGCTCGTAATGTCCCTCTTCTCGCTCCGGGCCCATACTAACGTGGGGGTTACTATCATGAAACTATACCTGGCATCTGGTTCTTACTTCAGGGCCATAACTTTATTTACTCCAATCCTACTAATTCTCGCAAATGGGACATCTCGATGGACTAATGACTAATCAGCCCATGATCACACATAACTGTGGTGTCATGCATCTGGTATCTTTTAATTTTTAGGGGGGGAATCTGCTATCACTCACCTACGACCGCAACGGCACTAACTCTAACTTATCTTCTGCTCTCAGGGAATATGCCCGTCGCGGCCCTAATGCAGTCAAATAACTTGTAGCTGGACTTATTCATTATCATTTATCAACTCACGCATAAAATCAAGGTGCTATTCAGTCAATGGTTTCAGGACATATAGTTTTAGGGTACACGTACGTACACGTRCGTACACGTACGTACACGTRCGTACACGTRCGTACACGTGCGTACACGTRCGTACACGTGCGTACACGTRCGTACACGTGCGTACACGTRCGTACACGTRCGTACACGTRCGTACACGTRCGTACACGTRCGTACACGTRCGTACACGTRCGTACACGTRCGTACACGTGCGTACACGTRCGTACACGTGCGTACACGTGCGTACACGTGCGTACACGTGCGTACACGTACGTACACGTGCGTACACGTGCGTACACGTRCGTACACGTGCGTACACGTACGCACGCGCGTAAGACATTAAGTTAACTTATACAAACCCCCCTTACCCCCCGTAAACTCATGTCATCTATTATACACTTATTTATGTCCCGCCAAACCCCAAAAACAGGACTAAGTGCATACAATACTCACAAGCTTTATTTAAATTATATACAAATGTATTGCTACTCTAGTTAACTTAACACAACAGTCTTACACGCATTTGGTCTCGTAGTCTATCTATAGATAGCATTCCCTTTTTTTTCCCTCTCATATTTACTATGTATTTTATTTATTACGCACACTACAATTTCAGTATAA\n",
      "16693.0\n"
     ]
    }
   ],
   "source": [
    "print(consensus_sequences)\n",
    "print(mystery_sequence[0])\n",
    "print(simple_alignment(consensus_sequences[0],mystery_sequence[0])[0])"
   ]
  },
  {
   "cell_type": "code",
   "execution_count": 13,
   "metadata": {},
   "outputs": [
    {
     "name": "stdout",
     "output_type": "stream",
     "text": [
      "<Bio.Align.PairwiseAlignments object at 0x7f65e4e437f0>\n"
     ]
    }
   ],
   "source": [
    "#align_concensus sequences with the mystery sequence\n",
    "def align_consensus(sequences_list=consensus_sequences, unknown_sequence = mystery_sequence[0]):\n",
    "    scores_list = []\n",
    "    for sequence in sequences_list:\n",
    "        score = (simple_alignment(sequence, unknown_sequence)[0])\n",
    "        scores_list.append(score)\n",
    "    max_score = max(scores_list)\n",
    "    for sequence in sequences_list:\n",
    "        score = (simple_alignment(sequence, unknown_sequence)[0])\n",
    "        if score == max_score:\n",
    "            return (simple_alignment(sequence, unknown_sequence)[1])\n",
    "\n",
    "print(align_consensus())"
   ]
  },
  {
   "cell_type": "code",
   "execution_count": 10,
   "metadata": {},
   "outputs": [],
   "source": [
    "def top_alignment(alignments_list = align_consensus()):\n",
    "    scores = []\n",
    "    for score, alignment in zip(alignments_list[0], alignments_list[1]):\n",
    "        scores.append(score)\n",
    "        if score == max(scores):\n",
    "            return alignment"
   ]
  },
  {
   "cell_type": "code",
   "execution_count": 11,
   "metadata": {},
   "outputs": [
    {
     "name": "stdout",
     "output_type": "stream",
     "text": [
      "[<Alignment object (2 rows x 16777 columns) at 0x7f65e4e42e30>, <Alignment object (2 rows x 16775 columns) at 0x7f65e4e42dd0>, <Alignment object (2 rows x 16777 columns) at 0x7f65e4e42f20>, <Alignment object (2 rows x 16783 columns) at 0x7f65e4e42e00>, <Alignment object (2 rows x 16787 columns) at 0x7f65e4e43460>, <Alignment object (2 rows x 16772 columns) at 0x7f65e4e77fa0>, <Alignment object (2 rows x 16767 columns) at 0x7f65e4e770d0>, <Alignment object (2 rows x 16781 columns) at 0x7f65e4e771f0>, <Alignment object (2 rows x 16783 columns) at 0x7f65e4e77160>, <Alignment object (2 rows x 16774 columns) at 0x7f65e4e77010>, <Alignment object (2 rows x 16787 columns) at 0x7f65e4e77fd0>, <Alignment object (2 rows x 16769 columns) at 0x7f65e4e77280>, <Alignment object (2 rows x 16771 columns) at 0x7f65e4e77e50>, <Alignment object (2 rows x 16772 columns) at 0x7f65e4e773d0>, <Alignment object (2 rows x 16786 columns) at 0x7f65e4e77880>, <Alignment object (2 rows x 16774 columns) at 0x7f65e4e77520>, <Alignment object (2 rows x 16775 columns) at 0x7f65e4e77550>, <Alignment object (2 rows x 16782 columns) at 0x7f65e4e774f0>, <Alignment object (2 rows x 16792 columns) at 0x7f65e4e77670>, <Alignment object (2 rows x 16772 columns) at 0x7f65e4e779d0>, <Alignment object (2 rows x 16784 columns) at 0x7f65e4e776a0>, <Alignment object (2 rows x 16787 columns) at 0x7f65e4e77a60>, <Alignment object (2 rows x 16776 columns) at 0x7f65e4e77ac0>, <Alignment object (2 rows x 16765 columns) at 0x7f65e4e77af0>, <Alignment object (2 rows x 16790 columns) at 0x7f65e4e77700>, <Alignment object (2 rows x 16772 columns) at 0x7f65e4e77760>, <Alignment object (2 rows x 16790 columns) at 0x7f65e4e77640>, <Alignment object (2 rows x 16774 columns) at 0x7f65e4e77430>, <Alignment object (2 rows x 16772 columns) at 0x7f65e4e77d30>, <Alignment object (2 rows x 16775 columns) at 0x7f65e4e777c0>, <Alignment object (2 rows x 16788 columns) at 0x7f65e4e77820>, <Alignment object (2 rows x 16773 columns) at 0x7f65e4e770a0>, <Alignment object (2 rows x 16784 columns) at 0x7f65e4e77220>, <Alignment object (2 rows x 16793 columns) at 0x7f65e4e77c10>, <Alignment object (2 rows x 16786 columns) at 0x7f65e4e77f10>, <Alignment object (2 rows x 16772 columns) at 0x7f65e4e77df0>, <Alignment object (2 rows x 16773 columns) at 0x7f65e4e77970>, <Alignment object (2 rows x 16782 columns) at 0x7f65e4e77040>, <Alignment object (2 rows x 16735 columns) at 0x7f65e4e77b80>]\n"
     ]
    }
   ],
   "source": [
    "\n",
    "def alignment(n, mystery_sequence = mystery_breed, directory = output):\n",
    "    \"\"\"Takes in index number of the alignment score (1 being the top scoring sequence), an unknown sequence (predifined) \n",
    "    and compares it to the database(predifined) to return the nth alignment.\n",
    "    n is the only required paramater, mystery_sequence and breed_seeqs can be substituted with a different dataset otherwise \n",
    "    defoult database will be used\"\"\"\n",
    "    #set a variable to store scores of each alignment\n",
    "    all_scores = []\n",
    "    #open the target sequence file and save its sequence in the unknown_sequence variable \n",
    "    for record in SeqIO.parse(mystery_sequence, \"fasta\"): \n",
    "        unknown_sequence = record.seq\n",
    "    os.chdir(directory)\n",
    "    all_alignments = []\n",
    "    for record in SeqIO.parse(\"concensus_sequences\", \"fasta\"):\n",
    "        #find the score of each alignment and save it in the all_scores list \n",
    "        alignment = simple_alignment(record.seq, unknown_sequence)\n",
    "        all_alignments.append(alignment[1][0]) \n",
    "        all_scores.append(alignment[0])\n",
    "    print(all_alignments)\n",
    "    \n",
    "\n",
    "alignment(0)"
   ]
  },
  {
   "cell_type": "code",
   "execution_count": 12,
   "metadata": {},
   "outputs": [
    {
     "ename": "IndentationError",
     "evalue": "unexpected indent (1703081588.py, line 2)",
     "output_type": "error",
     "traceback": [
      "\u001b[0;36m  Cell \u001b[0;32mIn[12], line 2\u001b[0;36m\u001b[0m\n\u001b[0;31m    all_scores.sort(reverse=True)\u001b[0m\n\u001b[0m    ^\u001b[0m\n\u001b[0;31mIndentationError\u001b[0m\u001b[0;31m:\u001b[0m unexpected indent\n"
     ]
    }
   ],
   "source": [
    "#sort the alignment scores from highest to lowest  \n",
    "    all_scores.sort(reverse=True)\n",
    "    #get the n'th alignment score \n",
    "    target_score = all_scores[n]\n",
    "    #itterate through sequences in the breed_seqs again \n",
    "    for alignment in all_alignments:\n",
    "            #create an alignment between the mystery sequence and the brred conceensus sequence only if the alignment has the target score\n",
    "            if alignment == target_score:\n",
    "                #store the alignemnt\n",
    "                target_alignment = alignment\n",
    "                #store and return information about the nth alignemnt [breed name, sequence of the breed, alignment of the breed and target sequence and the score of the alignemnt]\n",
    "                breed_score = (record.id).replace(\"_consensus\", \"\"), record.seq, target_alignment, target_score\n",
    "    return breed_score"
   ]
  },
  {
   "cell_type": "code",
   "execution_count": null,
   "metadata": {},
   "outputs": [],
   "source": [
    "def percentage_similarity(aln):\n",
    "    \"\"\"Given a pairwise alignment calculates the percentage similarity between the two sequences\"\"\"\n",
    "    #create a varieble to store the instances where columns are identical\n",
    "    identical_columns = float()\n",
    "    #itterate through every column of the alignment\n",
    "    for a in range(len(aln[0])): \n",
    "        #check if first and second sequence is the same at point a, a describing the column \n",
    "        if aln[0,a] == aln[1,a]: \n",
    "            #if base at position a is the same in both sequences add 1 to the amount of identical columns \n",
    "            identical_columns += 1\n",
    "    #calculate the percentage based on the identical columns number and the length of the alignment \n",
    "    percentage = 100 * identical_columns / float(len(aln[0])) \n",
    "    #return percentage to 3dp\n",
    "    return  round(percentage,3) "
   ]
  },
  {
   "cell_type": "code",
   "execution_count": null,
   "metadata": {},
   "outputs": [],
   "source": [
    "\n",
    "#calculate percentage similarity of the top scoring sequence \n",
    "top_percentage = percentage_similarity(((alignment(0))[2]))\n",
    "#set variable to hold the top alignment and its details \n",
    "full_top_alignment = alignment(0)\n",
    "#set a variable to just hold the top alignemnt without the rest of the details \n",
    "top_alignment = full_top_alignment[2]"
   ]
  },
  {
   "cell_type": "code",
   "execution_count": null,
   "metadata": {},
   "outputs": [],
   "source": [
    "#create a directory for the top alignment file \n",
    "filename = f\"{output}/top_alignment_output\"  \n",
    "#create a file to store the top scoring alignment as clustal file \n",
    "with open(filename, \"w\"):\n",
    "        Bio.Align.write(top_alignment, filename, \"clustal\")\n"
   ]
  },
  {
   "cell_type": "code",
   "execution_count": null,
   "metadata": {},
   "outputs": [],
   "source": [
    "#get results aka the breed, its sequence and percentage similarity \n",
    "results = \"The breed most similar to the mustery DNA file is the\", full_top_alignment[0], \"its percent identity is\", top_percentage, \"% and the breeds consensus sequence is:\", full_top_alignment[1],\"the alignment of the mystery dog breed and\", full_top_alignment[0], \"is displayed here\\n\", full_top_alignment[2]\n",
    "\n",
    "#create a string representing thr results that can be written to the results file \n",
    "results_str = str()\n",
    "for key in results:\n",
    "    results_str += str(key) "
   ]
  },
  {
   "cell_type": "code",
   "execution_count": null,
   "metadata": {},
   "outputs": [],
   "source": [
    "#create a directory and filename for the details of the top alignment\n",
    "filename2 = f\"{output}/top_alignment_details\"  \n",
    "#create a file to store details about the  top alignment as a txt file \n",
    "with open(filename2, \"w\") as file:\n",
    "        file.write(results_str)"
   ]
  },
  {
   "cell_type": "code",
   "execution_count": null,
   "metadata": {},
   "outputs": [],
   "source": [
    "consensus_sequences = concensus_file()\n",
    "\n",
    "#create a multisequence alignment between unknownn dna and all concensus sequences\n",
    "# Create a MultipleSeqAlignment object\n",
    "MSA_alignment = Bio.Align.MultipleSeqAlignment(consensus_sequences)\n",
    "#create a directory and filename for the MSA alignment\n",
    "filename3 = f\"{output}/MSA_alignment\"  \n",
    "#save the multiple sequence alignment in a clustal file \n",
    "AlignIO.write(MSA_alignment, filename3, \"clustal\")\n"
   ]
  },
  {
   "cell_type": "code",
   "execution_count": null,
   "metadata": {},
   "outputs": [],
   "source": [
    "#find regions of the most diversity \n",
    "#define diversity as more than 10 sequences differing in that region "
   ]
  },
  {
   "cell_type": "code",
   "execution_count": null,
   "metadata": {},
   "outputs": [],
   "source": [
    "#create a concensus sequence of all the dog breeds, which regions are essential to making a dog a dog?\n",
    "dog_concensus = concensus_seq(dog_breeds)\n",
    "#TASK TO DO = CREATE A FILE TO SAVE THIS INFO "
   ]
  },
  {
   "cell_type": "code",
   "execution_count": null,
   "metadata": {},
   "outputs": [],
   "source": [
    "#create a list storing the level of conservation at each possition in the multiple sequence alignemnt \n",
    "def conseravtion_counter(concensus = dog_concensus, individuals = dog_breeds):\n",
    "    \"\"\"This function takes dog concensus_sequence and a list of individual dog DNA as fasta files to return the conservation of each sequence in comparasion to overall concensus as a matrix\"\"\"\n",
    "    conservation = []\n",
    "    aligner = Bio.Align.PairwiseAligner()\n",
    "    for record in SeqIO.parse(individuals, \"fasta\"): \n",
    "        #create a temporary list to store the conservation detail of each individual alignment \n",
    "        temp = []\n",
    "        alignment = aligner.align(record.seq, concensus.seq) \n",
    "        #itterate through every column of the alignment\n",
    "        for a in range(len(alignment[0][0])): \n",
    "            #check if first and second sequence is the same at point a, a describing the column \n",
    "            if alignment[0][0,a] == alignment[0][1,a]: \n",
    "                temp.append(1)\n",
    "            else:\n",
    "                temp.append(0)\n",
    "        conservation.append(temp)\n",
    "    return conservation \n",
    "\n",
    "print(conseravtion_counter())\n",
    "\n",
    "\"\"\"x = np.arange(len(conseravtion_counter()))\n",
    "\n",
    "plt.bar(x, conservation)\n",
    "plt.show()\"\"\""
   ]
  },
  {
   "cell_type": "code",
   "execution_count": null,
   "metadata": {},
   "outputs": [],
   "source": [
    "#create a function to count an averge conservation score in each n position segment for easier visualisation of conserved regions "
   ]
  },
  {
   "cell_type": "code",
   "execution_count": null,
   "metadata": {},
   "outputs": [],
   "source": [
    "from Bio.Phylo.TreeConstruction import DistanceCalculator, DistanceTreeConstructor\n",
    "from Bio import Phylo\n",
    "\n",
    "# Calculate the distance matrix\n",
    "calculator = DistanceCalculator(\"identity\")\n",
    "distance_matrix = calculator.get_distance(MSA_alignment)\n",
    "\n",
    "# Build the tree using the neighbor-joining method\n",
    "constructor = DistanceTreeConstructor(calculator, method=\"nj\")\n",
    "breeds_tree = constructor.build_tree(MSA_alignment)\n",
    "# Save the tree to a new file \n",
    "\n",
    "Phylo.write(breeds_tree, \"breeds_tree.xml\", \"phyloxml\")\n",
    "# Convert the tree to a different format (optional)\n",
    "Phylo.convert(\"breeds_tree.xml\", \"phyloxml\", \"breeds_tree.nex\", \"nexus\")"
   ]
  },
  {
   "cell_type": "code",
   "execution_count": null,
   "metadata": {},
   "outputs": [],
   "source": [
    "breeds_nex = Phylo.read(\"breeds_tree.nex\", \"nexus\")\n",
    "breeds_nex.rooted = True\n",
    "# Create a custom label function that returns None for inner clade labels\n",
    "def custom_label_func(node):\n",
    "    if node.is_terminal():\n",
    "        return node.name\n",
    "    else:\n",
    "        return None\n",
    "import matplotlib\n",
    "fig = plt.figure(figsize=(20,15), dpi=100, frameon=False)\n",
    "matplotlib.rc(\"font\", size=12)\n",
    "ax = plt.gca()\n",
    "Phylo.draw(breeds_nex, show_confidence=True, axes=ax, label_func=custom_label_func)\n"
   ]
  },
  {
   "cell_type": "code",
   "execution_count": null,
   "metadata": {},
   "outputs": [],
   "source": [
    "#create a graph for each 100 bases long sequence alignment figure \n",
    "from pymsaviz import MsaViz\n",
    "read_alignment = AlignIO.read(f\"{output}/top_alignment_output\", \"clustal\")  \n",
    "\n",
    "l = len(top_alignment[0]) \n",
    "mv = MsaViz(read_alignment, format=\"clustal\", start=1, end=l, wrap_length=100)\n",
    "mv.savefig(f\"{output}/top_alignment_image\")\n"
   ]
  },
  {
   "cell_type": "code",
   "execution_count": null,
   "metadata": {},
   "outputs": [],
   "source": [
    "#make a plot to represent the conservation levels of the MSA\n",
    "\n",
    "MSA_alignment = AlignIO.read(f\"{output}/MSA_alignment\", \"clustal\")  \n",
    "\n",
    "l = len(MSA_alignment[0]) \n",
    "mv = MsaViz(read_alignment, format=\"clustal\", start=1, end=l, wrap_length=100, show_consensus=True)\n",
    "mv.savefig(f\"{output}/top_alignment_image\")\n"
   ]
  }
 ],
 "metadata": {
  "kernelspec": {
   "display_name": "Python 3",
   "language": "python",
   "name": "python3"
  },
  "language_info": {
   "codemirror_mode": {
    "name": "ipython",
    "version": 3
   },
   "file_extension": ".py",
   "mimetype": "text/x-python",
   "name": "python",
   "nbconvert_exporter": "python",
   "pygments_lexer": "ipython3",
   "version": "3.10.13"
  }
 },
 "nbformat": 4,
 "nbformat_minor": 2
}
