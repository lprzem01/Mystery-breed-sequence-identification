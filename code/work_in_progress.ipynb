{
 "cells": [
  {
   "cell_type": "code",
   "execution_count": null,
   "metadata": {},
   "outputs": [],
   "source": [
    "\n",
    "from Bio import SeqIO, AlignIO, Phylo\n",
    "from Bio.SeqRecord import SeqRecord\n",
    "import Bio.Align\n",
    "from Bio.Align.AlignInfo import SummaryInfo\n",
    "from Bio.Seq import Seq\n",
    "import os\n",
    "import seaborn as sns\n",
    "import matplotlib.pyplot as plt\n",
    "import numpy as np \n",
    "import scipy as sp\n"
   ]
  },
  {
   "cell_type": "code",
   "execution_count": null,
   "metadata": {},
   "outputs": [],
   "source": [
    "#complete these variables with the input files directory \n",
    "\n",
    "dog_breeds = r\"/workspaces/Coursework-Identify-the-most-similar-sequence-/data/dog_breeds.fa\"\n",
    "mystery_breed = r\"/workspaces/Coursework-Identify-the-most-similar-sequence-/data/mystery.fa\"\n",
    "output = r\"/workspaces/Coursework-Identify-the-most-similar-sequence-/results\"\n",
    "ind_breeds = r\"/workspaces/Coursework-Identify-the-most-similar-sequence-/results/individual_breed_sequences\""
   ]
  },
  {
   "cell_type": "code",
   "execution_count": null,
   "metadata": {},
   "outputs": [],
   "source": [
    "class Breed():\n",
    "    \"\"\"This class stores information about every breed and their sequence\"\"\"\n",
    "    #create a list to store all instances of the class\n",
    "    all_instances = []\n",
    "    #define an init function which stores the sequence as a sequence object, the breed as a string and the fasta format of the sequence\n",
    "    def __init__(self, sequence, breed, fasta):\n",
    "        self.sequence = sequence\n",
    "        self.breed = breed\n",
    "        self.fasta = fasta\n",
    "        #store all initialised instances in the defined list\n",
    "        Breed.all_instances.append(self) \n"
   ]
  },
  {
   "cell_type": "code",
   "execution_count": null,
   "metadata": {},
   "outputs": [],
   "source": [
    "#open the fasta file and save the sequence breed and sequence name in a Breed Class to be accessed later\n",
    "def read_fasta(filename = dog_breeds, format = \"fasta\"):\n",
    "    #parse through the dog_breeds file\n",
    "    for record in SeqIO.parse(filename, format):\n",
    "        #get the description of each sequence to find out what breed it is \n",
    "        #split the description on \"[\" as these are used to separate each descriptor\n",
    "        for key in list(record.description.split(\"[\")): \n",
    "            #if the keyword breed is in the description but the keyword \"isolate\" is not in thr description it will define the dog breed \n",
    "            if \"breed\" in key and \"isolate\" not in key:\n",
    "                #each sequence in filename gets assigned a name based on the breed identified in the desciption\n",
    "                #intialises an object of class Breed which contains the sequence, breed name and the full record \n",
    "                record.name = Breed(record.seq, (key[6:-2]).capitalize(), record)\n",
    "#call the function\n",
    "read_fasta()"
   ]
  },
  {
   "cell_type": "code",
   "execution_count": null,
   "metadata": {},
   "outputs": [],
   "source": [
    "#set up a list that contains all unique breed names in a list\n",
    "all_breeds = set()\n",
    "#itterate through all instances in Breed class\n",
    "for key in Breed.all_instances:\n",
    "    #access and add every breed to the all_breeds set\n",
    "    all_breeds.add(key.breed)\n",
    "\n",
    "#write a fasta file containing all sequences that belong to the same breed \n",
    "#set up directory where files will be created\n",
    "os.chdir(ind_breeds) \n",
    "for breed in all_breeds:\n",
    "    #creates a temporary variable corresponding to each individual dog breed \n",
    "    temp = breed\n",
    "    #creates a filename eith the name of the breed in a writable format\n",
    "    file = open(breed, \"w\") \n",
    "    #itterate throough all instances of the class Breed\n",
    "    for key in Breed.all_instances: \n",
    "        #check if the breedd is the same as the current breed in the loop stored in the temp variable \n",
    "        if key.breed == temp:\n",
    "            #adds the sequence to the file that was created before \n",
    "            SeqIO.write(key.fasta, file, \"fasta\") \n",
    "    #once all the sequences in the same breed are added to the file  it is closed\n",
    "    file.close() \n"
   ]
  },
  {
   "cell_type": "code",
   "execution_count": null,
   "metadata": {},
   "outputs": [],
   "source": [
    "#SHOULD THIS BE A FUNCTION THAT RETURNS A CONCENSUS SEQUENCE?\n",
    "def concensus_seq(filename):\n",
    "    \"\"\"Function that takes in a filke containing a number of sequences and returns a concensus sequence\"\"\"\n",
    "    #align all the sequences in each file\n",
    "    alignments = AlignIO.parse(filename, \"fasta\") \n",
    "    #assign filename to varible recordname which will be used to create a name for this record \n",
    "    recordname = f\"{filename}\" \n",
    "    for alignment in alignments: \n",
    "        #get summary info of each alignment to create a concensus \n",
    "        summary = SummaryInfo(alignment) \n",
    "        #create a concensus of each alignmernt \n",
    "        consensus = summary.dumb_consensus() \n",
    "        #create a fasta format sequence using the consensus sequence and recordname\n",
    "        seq_record = SeqRecord(Seq(consensus), id=recordname) \n",
    "        #add each concensus seq to a list \n",
    "    return seq_record\n",
    "\n",
    "#create a consensus sequence for each breed \n",
    "#store the concensus sequences in a fasta format \n",
    "consensus_sequences = [] \n",
    "#set directory to where the sequences are \n",
    "os.chdir(ind_breeds) \n",
    "#open each file created in the previous step \n",
    "for file in all_breeds:\n",
    "    #run the concensus_seq function to get the concensus file of each breed in the concensus list \n",
    "    consensus_sequences.append(concensus_seq(file))\n"
   ]
  },
  {
   "cell_type": "code",
   "execution_count": null,
   "metadata": {},
   "outputs": [],
   "source": [
    "#SHOULD THIS BE A FUNCTION TO ALLOW USER ENTRY OF TARGET SEQUENCE INSTEAD?\n",
    "\n",
    "\n",
    "#get sequence from file \n",
    "unknown_sequence = SeqIO.read(mystery_breed, \"fasta\") \n",
    "#add mystery sequence to the concensus file list \n",
    "consensus_sequences.append(SeqRecord(unknown_sequence.seq, id=\"mystery_sequence\"))\n",
    "\n",
    "#store concensus sequences in a results folder in a file called concensus_sequences\n",
    "concensus_filename = f\"{output}/concensus_sequences\"  \n",
    "with open(concensus_filename, \"w\"):\n",
    "        #adds the sequence to the file in a fasta format\n",
    "        SeqIO.write(consensus_sequences, concensus_filename, \"fasta\") \n"
   ]
  },
  {
   "cell_type": "code",
   "execution_count": null,
   "metadata": {},
   "outputs": [],
   "source": [
    "def alignment(n, mystery_sequence = mystery_breed, breed_seqs =consensus_sequences):\n",
    "    \"\"\"Takes in index number of the alignment score (1 being the top scoring sequence), an unknown sequence (predifined) \n",
    "    and compares it to the database(predifined) to return the nth alignment.\n",
    "    n is the only required paramater, mystery_sequence and breed_seeqs can be substituted with a different dataset otherwise \n",
    "    defoult database will be used\"\"\"\n",
    "    #set a variable to store scores of each alignment\n",
    "    all_scores = []\n",
    "    #open the target sequence file and save its sequence in the unknown_sequence variable \n",
    "    for record in SeqIO.parse(mystery_sequence, \"fasta\"): \n",
    "        unknown_sequence = record.seq\n",
    "    #Create a pairwise alignment varaible \n",
    "    aligner = Bio.Align.PairwiseAligner() \n",
    "    #itterate through the sequences saved in the breed concensus sequences file \n",
    "    for record in breed_seqs: \n",
    "        #find the score of each alignment and save it in the all_scores list \n",
    "        score = aligner.score(record.seq, unknown_sequence) \n",
    "        all_scores.append(score)\n",
    "    #sort the alignment scores from highest to lowest  \n",
    "    all_scores.sort(reverse=True)\n",
    "    #get the n'th alignment score \n",
    "    target_score = all_scores[n]\n",
    "    #itterate through sequences in the breed_seqs again \n",
    "    for record in breed_seqs:\n",
    "        #create an alignment between the mystery sequence and the brred conceensus sequence only if the alignment has the target score\n",
    "        if aligner.score(record.seq, unknown_sequence) == target_score:\n",
    "            #store the alignemnt\n",
    "            alignment = aligner.align(record.seq, unknown_sequence)\n",
    "            #store and return information about the nth alignemnt [breed name, sequence of the breed, alignment of the breed and target sequence and the score of the alignemnt]\n",
    "            breed_score = (record.id).replace(\"_consensus\", \"\"), record.seq, alignment[0], target_score\n",
    "    return breed_score"
   ]
  },
  {
   "cell_type": "code",
   "execution_count": null,
   "metadata": {},
   "outputs": [],
   "source": [
    "def percentage_similarity(aln):\n",
    "    \"\"\"Given a pairwise alignment calculates the percentage similarity between the two sequences\"\"\"\n",
    "    #create a varieble to store the instances where columns are identical\n",
    "    identical_columns = float()\n",
    "    #itterate through every column of the alignment\n",
    "    for a in range(len(aln[0])): \n",
    "        #check if first and second sequence is the same at point a, a describing the column \n",
    "        if aln[0,a] == aln[1,a]: \n",
    "            #if base at position a is the same in both sequences add 1 to the amount of identical columns \n",
    "            identical_columns += 1\n",
    "    #calculate the percentage based on the identical columns number and the length of the alignment \n",
    "    percentage = 100 * identical_columns / float(len(aln[0])) \n",
    "    #return percentage to 3dp\n",
    "    return  round(percentage,3) "
   ]
  },
  {
   "cell_type": "code",
   "execution_count": null,
   "metadata": {},
   "outputs": [],
   "source": [
    "#calculate percentage similarity of the top scoring sequence \n",
    "top_percentage = percentage_similarity((alignment(0)[2]))\n",
    "#set variable to hold the top alignment and its details \n",
    "full_top_alignment = alignment(0)\n",
    "#set a variable to just hold the top alignemnt without the rest of the details \n",
    "top_alignment = full_top_alignment[2]"
   ]
  },
  {
   "cell_type": "code",
   "execution_count": null,
   "metadata": {},
   "outputs": [],
   "source": [
    "#create a directory for the top alignment file \n",
    "filename = f\"{output}/top_alignment_output\"  \n",
    "#create a file to store the top scoring alignment as clustal file \n",
    "with open(filename, \"w\"):\n",
    "        Bio.Align.write(top_alignment, filename, \"clustal\")\n"
   ]
  },
  {
   "cell_type": "code",
   "execution_count": null,
   "metadata": {},
   "outputs": [],
   "source": [
    "#get results aka the breed, its sequence and percentage similarity \n",
    "results = \"The breed most similar to the mustery DNA file is the\", full_top_alignment[0], \"its percent identity is\", top_percentage, \"% and the breeds consensus sequence is:\", full_top_alignment[1],\"the alignment of the mystery dog breed and\", full_top_alignment[0], \"is displayed here\\n\", full_top_alignment[2]\n",
    "\n",
    "#create a string representing thr results that can be written to the results file \n",
    "results_str = str()\n",
    "for key in results:\n",
    "    results_str += str(key) "
   ]
  },
  {
   "cell_type": "code",
   "execution_count": null,
   "metadata": {},
   "outputs": [],
   "source": [
    "#create a directory and filename for the details of the top alignment\n",
    "filename2 = f\"{output}/top_alignment_details\"  \n",
    "#create a file to store details about the  top alignment as a txt file \n",
    "with open(filename2, \"w\") as file:\n",
    "        file.write(results_str)"
   ]
  },
  {
   "cell_type": "code",
   "execution_count": null,
   "metadata": {},
   "outputs": [],
   "source": [
    "#create a multisequence alignment between unknownn dna and all concensus sequences\n",
    "# Create a MultipleSeqAlignment object\n",
    "MSA_alignment = Bio.Align.MultipleSeqAlignment(consensus_sequences)\n",
    "#create a directory and filename for the MSA alignment\n",
    "filename3 = f\"{output}/MSA_alignment\"  \n",
    "#save the multiple sequence alignment in a clustal file \n",
    "AlignIO.write(MSA_alignment, filename3, \"clustal\")\n"
   ]
  },
  {
   "cell_type": "code",
   "execution_count": null,
   "metadata": {},
   "outputs": [],
   "source": [
    "#find regions of the most diversity \n",
    "#define diversity as more than 10 sequences differing in that region "
   ]
  },
  {
   "cell_type": "code",
   "execution_count": null,
   "metadata": {},
   "outputs": [],
   "source": [
    "#create a concensus sequence of all the dog breeds, which regions are essential to making a dog a dog?\n",
    "dog_concensus = concensus_seq(dog_breeds)\n",
    "#TASK TO DO = CREATE A FILE TO SAVE THIS INFO "
   ]
  },
  {
   "cell_type": "code",
   "execution_count": null,
   "metadata": {},
   "outputs": [],
   "source": [
    "#create a list storing the level of conservation at each possition in the multiple sequence alignemnt \n",
    "def conseravtion_counter(concensus = dog_concensus, individuals = dog_breeds ):\n",
    "    \"\"\"This function takes dog concensus_sequence and a list of individual dog DNA as fasta files to return the conservation of each sequence in comparasion to overall concensus as a matrix\"\"\"\n",
    "    conservation = []\n",
    "    aligner = Bio.Align.PairwiseAligner()\n",
    "    for record in SeqIO.parse(individuals, \"fasta\"): \n",
    "        #create a temporary list to store the conservation detail of each individual alignment \n",
    "        temp = []\n",
    "        alignment = aligner.align(record.seq, concensus.seq) \n",
    "        #itterate through every column of the alignment\n",
    "        for a in range(len(alignment[0][0])): \n",
    "            #check if first and second sequence is the same at point a, a describing the column \n",
    "            if alignment[0][0,a] == alignment[0][1,a]: \n",
    "                temp.append(1)\n",
    "            else:\n",
    "                temp.append(0)\n",
    "        conservation.append(temp)\n",
    "    return conservation \n",
    "\n",
    "print(conseravtion_counter())\n",
    "\"\"\"x = np.arange(len(conseravtion_counter()))\n",
    "\n",
    "plt.bar(x, conservation)\n",
    "plt.show()\"\"\""
   ]
  },
  {
   "cell_type": "code",
   "execution_count": null,
   "metadata": {},
   "outputs": [],
   "source": [
    "#create a function to count an averge conservation score in each n position segment for easier visualisation of conserved regions "
   ]
  },
  {
   "cell_type": "code",
   "execution_count": null,
   "metadata": {},
   "outputs": [],
   "source": [
    "from Bio.Phylo.TreeConstruction import DistanceCalculator, DistanceTreeConstructor\n",
    "from Bio import Phylo\n",
    "\n",
    "# Calculate the distance matrix\n",
    "calculator = DistanceCalculator(\"identity\")\n",
    "distance_matrix = calculator.get_distance(alignment)\n",
    "\n",
    "# Build the tree using the neighbor-joining method\n",
    "constructor = DistanceTreeConstructor(calculator, method=\"nj\")\n",
    "breeds_tree = constructor.build_tree(alignment)\n",
    "# Save the tree to a new file \n",
    "\n",
    "Phylo.write(breeds_tree, \"breeds_tree.xml\", \"phyloxml\")\n",
    "# Convert the tree to a different format (optional)\n",
    "Phylo.convert(\"breeds_tree.xml\", \"phyloxml\", \"breeds_tree.nex\", \"nexus\")"
   ]
  },
  {
   "cell_type": "code",
   "execution_count": null,
   "metadata": {},
   "outputs": [],
   "source": [
    "breeds_nex = Phylo.read(\"breeds_tree.nex\", \"nexus\")\n",
    "breeds_nex.rooted = True\n",
    "# Create a custom label function that returns None for inner clade labels\n",
    "def custom_label_func(node):\n",
    "    if node.is_terminal():\n",
    "        return node.name\n",
    "    else:\n",
    "        return None\n",
    "import matplotlib\n",
    "fig = plt.figure(figsize=(20,15), dpi=100, frameon=False)\n",
    "matplotlib.rc(\"font\", size=12)\n",
    "ax = plt.gca()\n",
    "Phylo.draw(breeds_nex, show_confidence=True, axes=ax, label_func=custom_label_func)\n"
   ]
  },
  {
   "cell_type": "code",
   "execution_count": null,
   "metadata": {},
   "outputs": [],
   "source": [
    "#create a graph for each 100 bases long sequence alignment figure \n",
    "from pymsaviz import MsaViz\n",
    "read_alignment = AlignIO.read(f\"{output}/top_alignment_output\", \"clustal\")  \n",
    "\n",
    "l = len(top_alignment[0]) \n",
    "mv = MsaViz(read_alignment, format=\"clustal\", start=1, end=l, wrap_length=100)\n",
    "mv.savefig(f\"{output}/top_alignment_image\")\n"
   ]
  },
  {
   "cell_type": "code",
   "execution_count": null,
   "metadata": {},
   "outputs": [],
   "source": [
    "%pip install pycanal\n"
   ]
  },
  {
   "cell_type": "code",
   "execution_count": null,
   "metadata": {},
   "outputs": [],
   "source": [
    "#make a plot to represent the conservation levels of the MSA\n",
    "\n",
    "MSA_alignment = AlignIO.read(f\"{output}/MSA_alignment\", \"clustal\")  \n",
    "\n",
    "l = len(MSA_alignment[0]) \n",
    "mv = MsaViz(read_alignment, format=\"clustal\", start=1, end=l, wrap_length=100, show_consensus=True)\n",
    "mv.savefig(f\"{output}/top_alignment_image\")\n"
   ]
  }
 ],
 "metadata": {
  "kernelspec": {
   "display_name": "Python 3",
   "language": "python",
   "name": "python3"
  },
  "language_info": {
   "codemirror_mode": {
    "name": "ipython",
    "version": 3
   },
   "file_extension": ".py",
   "mimetype": "text/x-python",
   "name": "python",
   "nbconvert_exporter": "python",
   "pygments_lexer": "ipython3",
   "version": "3.10.13"
  }
 },
 "nbformat": 4,
 "nbformat_minor": 2
}
